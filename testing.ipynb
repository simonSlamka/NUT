{
 "cells": [
  {
   "cell_type": "code",
   "execution_count": 1,
   "metadata": {},
   "outputs": [],
   "source": [
    "from nuttlib import Mat"
   ]
  },
  {
   "cell_type": "code",
   "execution_count": 4,
   "metadata": {},
   "outputs": [
    {
     "name": "stdout",
     "output_type": "stream",
     "text": [
      "   1    2    3\n",
      "   4    5    6\n",
      "   7    8    9\n",
      "1\n",
      "<class 'nuttlib.mat.Mat'>\n",
      "  30   36   42\n",
      "  66   81   96\n",
      " 102  126  150\n",
      "   0    0    0\n",
      "   0    0    0\n",
      "   0    0    0\n",
      "   2    4    6\n",
      "   8   10   12\n",
      "  14   16   18\n"
     ]
    }
   ],
   "source": [
    "mat = Mat(data=[[1,2,3],[4,5,6],[7,8,9]])\n",
    "print(mat)\n",
    "print(mat[0,0])\n",
    "print(type(mat))\n",
    "print(mat @ mat)\n",
    "print(mat - mat)\n",
    "print(mat + mat)"
   ]
  },
  {
   "cell_type": "code",
   "execution_count": null,
   "metadata": {},
   "outputs": [],
   "source": []
  }
 ],
 "metadata": {
  "kernelspec": {
   "display_name": "Python 3",
   "language": "python",
   "name": "python3"
  },
  "language_info": {
   "codemirror_mode": {
    "name": "ipython",
    "version": 3
   },
   "file_extension": ".py",
   "mimetype": "text/x-python",
   "name": "python",
   "nbconvert_exporter": "python",
   "pygments_lexer": "ipython3",
   "version": "3.11.2"
  }
 },
 "nbformat": 4,
 "nbformat_minor": 2
}
